{
 "cells": [
  {
   "cell_type": "markdown",
   "metadata": {
    "application/vnd.databricks.v1+cell": {
     "cellMetadata": {},
     "inputWidgets": {},
     "nuid": "3af773e1-0483-4999-b971-a4af3a58dd2c",
     "showTitle": false,
     "tableResultSettingsMap": {},
     "title": ""
    }
   },
   "source": [
    "# Great Expectations(GX) - Data Integrity and Profiling"
   ]
  },
  {
   "cell_type": "markdown",
   "metadata": {
    "application/vnd.databricks.v1+cell": {
     "cellMetadata": {},
     "inputWidgets": {},
     "nuid": "cccea206-d692-4b2f-b7c1-90caa23537fa",
     "showTitle": false,
     "tableResultSettingsMap": {},
     "title": ""
    }
   },
   "source": []
  },
  {
   "attachments": {},
   "cell_type": "markdown",
   "metadata": {
    "application/vnd.databricks.v1+cell": {
     "cellMetadata": {},
     "inputWidgets": {},
     "nuid": "1f3cab24-a058-4103-90d5-e6b5764949c8",
     "showTitle": false,
     "tableResultSettingsMap": {},
     "title": ""
    }
   },
   "source": [
    "\n",
    "## Overview\n",
    "\n",
    "- Set up a GX environment\n",
    "- Connect to data\n",
    "- Define Expectations\n",
    "- Run Validations\n",
    "- Trigger Actions and Checkpointing"
   ]
  },
  {
   "cell_type": "markdown",
   "metadata": {
    "application/vnd.databricks.v1+cell": {
     "cellMetadata": {},
     "inputWidgets": {},
     "nuid": "ef71ecee-eb10-4173-afce-9e8d85584f94",
     "showTitle": false,
     "tableResultSettingsMap": {},
     "title": ""
    }
   },
   "source": [
    "- [Great Expectations - Web](https://docs.greatexpectations.io/docs/home)\n",
    "- [Great Expectations - Git](https://github.com/great-expectations/great_expectations)"
   ]
  },
  {
   "cell_type": "markdown",
   "metadata": {
    "application/vnd.databricks.v1+cell": {
     "cellMetadata": {},
     "inputWidgets": {},
     "nuid": "66e8bf2c-c6ba-4a45-91af-9bcde0fb5c9d",
     "showTitle": false,
     "tableResultSettingsMap": {},
     "title": ""
    }
   },
   "source": [
    "## Installation"
   ]
  },
  {
   "cell_type": "code",
   "execution_count": null,
   "metadata": {
    "application/vnd.databricks.v1+cell": {
     "cellMetadata": {
      "byteLimit": 2048000,
      "rowLimit": 10000
     },
     "inputWidgets": {},
     "nuid": "8b1ebd5a-a8cc-43b1-9df2-200abebf95f6",
     "showTitle": false,
     "tableResultSettingsMap": {},
     "title": ""
    }
   },
   "outputs": [
    {
     "name": "stdout",
     "output_type": "stream",
     "text": [
      "\u001b[43mNote: you may need to restart the kernel using dbutils.library.restartPython() to use updated packages.\u001b[0m\n",
      "Requirement already satisfied: great-expectations in /local_disk0/.ephemeral_nfs/envs/pythonEnv-6afbc900-3521-4d16-bc92-7fab30221963/lib/python3.10/site-packages (1.2.5)\n",
      "Requirement already satisfied: marshmallow<4.0.0,>=3.7.1 in /local_disk0/.ephemeral_nfs/envs/pythonEnv-6afbc900-3521-4d16-bc92-7fab30221963/lib/python3.10/site-packages (from great-expectations) (3.23.1)\n",
      "Requirement already satisfied: pyparsing>=2.4 in /databricks/python3/lib/python3.10/site-packages (from great-expectations) (3.0.9)\n",
      "Requirement already satisfied: packaging in /databricks/python3/lib/python3.10/site-packages (from great-expectations) (23.2)\n",
      "Requirement already satisfied: jsonschema>=2.5.1 in /databricks/python3/lib/python3.10/site-packages (from great-expectations) (4.17.3)\n",
      "Requirement already satisfied: jinja2>=2.10 in /databricks/python3/lib/python3.10/site-packages (from great-expectations) (3.1.2)\n",
      "Requirement already satisfied: pandas<2.2,>=1.3.0 in /databricks/python3/lib/python3.10/site-packages (from great-expectations) (1.5.3)\n",
      "Requirement already satisfied: mistune>=0.8.4 in /databricks/python3/lib/python3.10/site-packages (from great-expectations) (0.8.4)\n",
      "Requirement already satisfied: posthog<3,>=2.1.0 in /local_disk0/.ephemeral_nfs/envs/pythonEnv-6afbc900-3521-4d16-bc92-7fab30221963/lib/python3.10/site-packages (from great-expectations) (2.5.0)\n",
      "Requirement already satisfied: altair<5.0.0,>=4.2.1 in /local_disk0/.ephemeral_nfs/envs/pythonEnv-6afbc900-3521-4d16-bc92-7fab30221963/lib/python3.10/site-packages (from great-expectations) (4.2.2)\n",
      "Requirement already satisfied: ruamel.yaml>=0.16 in /local_disk0/.ephemeral_nfs/envs/pythonEnv-6afbc900-3521-4d16-bc92-7fab30221963/lib/python3.10/site-packages (from great-expectations) (0.18.6)\n",
      "Requirement already satisfied: pydantic>=1.10.7 in /local_disk0/.ephemeral_nfs/envs/pythonEnv-6afbc900-3521-4d16-bc92-7fab30221963/lib/python3.10/site-packages (from great-expectations) (2.10.3)\n",
      "Requirement already satisfied: python-dateutil>=2.8.1 in /databricks/python3/lib/python3.10/site-packages (from great-expectations) (2.8.2)\n",
      "Requirement already satisfied: cryptography>=3.2 in /databricks/python3/lib/python3.10/site-packages (from great-expectations) (39.0.1)\n",
      "Requirement already satisfied: requests>=2.20 in /databricks/python3/lib/python3.10/site-packages (from great-expectations) (2.28.1)\n",
      "Requirement already satisfied: tqdm>=4.59.0 in /local_disk0/.ephemeral_nfs/envs/pythonEnv-6afbc900-3521-4d16-bc92-7fab30221963/lib/python3.10/site-packages (from great-expectations) (4.67.1)\n",
      "Requirement already satisfied: scipy>=1.6.0 in /databricks/python3/lib/python3.10/site-packages (from great-expectations) (1.10.0)\n",
      "Requirement already satisfied: typing-extensions>=4.1.0 in /local_disk0/.ephemeral_nfs/envs/pythonEnv-6afbc900-3521-4d16-bc92-7fab30221963/lib/python3.10/site-packages (from great-expectations) (4.12.2)\n",
      "Requirement already satisfied: tzlocal>=1.2 in /local_disk0/.ephemeral_nfs/envs/pythonEnv-6afbc900-3521-4d16-bc92-7fab30221963/lib/python3.10/site-packages (from great-expectations) (5.2)\n",
      "Requirement already satisfied: numpy>=1.22.4 in /databricks/python3/lib/python3.10/site-packages (from great-expectations) (1.23.5)\n",
      "Requirement already satisfied: entrypoints in /databricks/python3/lib/python3.10/site-packages (from altair<5.0.0,>=4.2.1->great-expectations) (0.4)\n",
      "Requirement already satisfied: toolz in /local_disk0/.ephemeral_nfs/envs/pythonEnv-6afbc900-3521-4d16-bc92-7fab30221963/lib/python3.10/site-packages (from altair<5.0.0,>=4.2.1->great-expectations) (1.0.0)\n",
      "Requirement already satisfied: cffi>=1.12 in /databricks/python3/lib/python3.10/site-packages (from cryptography>=3.2->great-expectations) (1.15.1)\n",
      "Requirement already satisfied: MarkupSafe>=2.0 in /databricks/python3/lib/python3.10/site-packages (from jinja2>=2.10->great-expectations) (2.1.1)\n",
      "Requirement already satisfied: pyrsistent!=0.17.0,!=0.17.1,!=0.17.2,>=0.14.0 in /databricks/python3/lib/python3.10/site-packages (from jsonschema>=2.5.1->great-expectations) (0.18.0)\n",
      "Requirement already satisfied: attrs>=17.4.0 in /databricks/python3/lib/python3.10/site-packages (from jsonschema>=2.5.1->great-expectations) (22.1.0)\n",
      "Requirement already satisfied: pytz>=2020.1 in /databricks/python3/lib/python3.10/site-packages (from pandas<2.2,>=1.3.0->great-expectations) (2022.7)\n",
      "Requirement already satisfied: monotonic>=1.5 in /local_disk0/.ephemeral_nfs/envs/pythonEnv-6afbc900-3521-4d16-bc92-7fab30221963/lib/python3.10/site-packages (from posthog<3,>=2.1.0->great-expectations) (1.6)\n",
      "Requirement already satisfied: six>=1.5 in /usr/lib/python3/dist-packages (from posthog<3,>=2.1.0->great-expectations) (1.16.0)\n",
      "Requirement already satisfied: backoff>=1.10.0 in /local_disk0/.ephemeral_nfs/envs/pythonEnv-6afbc900-3521-4d16-bc92-7fab30221963/lib/python3.10/site-packages (from posthog<3,>=2.1.0->great-expectations) (2.2.1)\n",
      "Requirement already satisfied: annotated-types>=0.6.0 in /local_disk0/.ephemeral_nfs/envs/pythonEnv-6afbc900-3521-4d16-bc92-7fab30221963/lib/python3.10/site-packages (from pydantic>=1.10.7->great-expectations) (0.7.0)\n",
      "Requirement already satisfied: pydantic-core==2.27.1 in /local_disk0/.ephemeral_nfs/envs/pythonEnv-6afbc900-3521-4d16-bc92-7fab30221963/lib/python3.10/site-packages (from pydantic>=1.10.7->great-expectations) (2.27.1)\n",
      "Requirement already satisfied: idna<4,>=2.5 in /databricks/python3/lib/python3.10/site-packages (from requests>=2.20->great-expectations) (3.4)\n",
      "Requirement already satisfied: certifi>=2017.4.17 in /databricks/python3/lib/python3.10/site-packages (from requests>=2.20->great-expectations) (2022.12.7)\n",
      "Requirement already satisfied: charset-normalizer<3,>=2 in /databricks/python3/lib/python3.10/site-packages (from requests>=2.20->great-expectations) (2.0.4)\n",
      "Requirement already satisfied: urllib3<1.27,>=1.21.1 in /databricks/python3/lib/python3.10/site-packages (from requests>=2.20->great-expectations) (1.26.14)\n",
      "Requirement already satisfied: ruamel.yaml.clib>=0.2.7 in /local_disk0/.ephemeral_nfs/envs/pythonEnv-6afbc900-3521-4d16-bc92-7fab30221963/lib/python3.10/site-packages (from ruamel.yaml>=0.16->great-expectations) (0.2.12)\n",
      "Requirement already satisfied: pycparser in /databricks/python3/lib/python3.10/site-packages (from cffi>=1.12->cryptography>=3.2->great-expectations) (2.21)\n",
      "\u001b[43mNote: you may need to restart the kernel using dbutils.library.restartPython() to use updated packages.\u001b[0m\n",
      "Requirement already satisfied: great_expectations[spark] in /local_disk0/.ephemeral_nfs/envs/pythonEnv-6afbc900-3521-4d16-bc92-7fab30221963/lib/python3.10/site-packages (1.2.5)\r\n",
      "Requirement already satisfied: ruamel.yaml>=0.16 in /local_disk0/.ephemeral_nfs/envs/pythonEnv-6afbc900-3521-4d16-bc92-7fab30221963/lib/python3.10/site-packages (from great_expectations[spark]) (0.18.6)\r\n",
      "Requirement already satisfied: python-dateutil>=2.8.1 in /databricks/python3/lib/python3.10/site-packages (from great_expectations[spark]) (2.8.2)\r\n",
      "Requirement already satisfied: pydantic>=1.10.7 in /local_disk0/.ephemeral_nfs/envs/pythonEnv-6afbc900-3521-4d16-bc92-7fab30221963/lib/python3.10/site-packages (from great_expectations[spark]) (2.10.3)\r\n",
      "Requirement already satisfied: numpy>=1.22.4 in /databricks/python3/lib/python3.10/site-packages (from great_expectations[spark]) (1.23.5)\r\n",
      "Requirement already satisfied: mistune>=0.8.4 in /databricks/python3/lib/python3.10/site-packages (from great_expectations[spark]) (0.8.4)\r\n",
      "Requirement already satisfied: marshmallow<4.0.0,>=3.7.1 in /local_disk0/.ephemeral_nfs/envs/pythonEnv-6afbc900-3521-4d16-bc92-7fab30221963/lib/python3.10/site-packages (from great_expectations[spark]) (3.23.1)\r\n",
      "Requirement already satisfied: requests>=2.20 in /databricks/python3/lib/python3.10/site-packages (from great_expectations[spark]) (2.28.1)\r\n",
      "Requirement already satisfied: typing-extensions>=4.1.0 in /local_disk0/.ephemeral_nfs/envs/pythonEnv-6afbc900-3521-4d16-bc92-7fab30221963/lib/python3.10/site-packages (from great_expectations[spark]) (4.12.2)\r\n",
      "Requirement already satisfied: pyparsing>=2.4 in /databricks/python3/lib/python3.10/site-packages (from great_expectations[spark]) (3.0.9)\r\n",
      "Requirement already satisfied: jinja2>=2.10 in /databricks/python3/lib/python3.10/site-packages (from great_expectations[spark]) (3.1.2)\r\n",
      "Requirement already satisfied: packaging in /databricks/python3/lib/python3.10/site-packages (from great_expectations[spark]) (23.2)\r\n",
      "Requirement already satisfied: pandas<2.2,>=1.3.0 in /databricks/python3/lib/python3.10/site-packages (from great_expectations[spark]) (1.5.3)\r\n",
      "Requirement already satisfied: jsonschema>=2.5.1 in /databricks/python3/lib/python3.10/site-packages (from great_expectations[spark]) (4.17.3)\r\n",
      "Requirement already satisfied: posthog<3,>=2.1.0 in /local_disk0/.ephemeral_nfs/envs/pythonEnv-6afbc900-3521-4d16-bc92-7fab30221963/lib/python3.10/site-packages (from great_expectations[spark]) (2.5.0)\r\n",
      "Requirement already satisfied: altair<5.0.0,>=4.2.1 in /local_disk0/.ephemeral_nfs/envs/pythonEnv-6afbc900-3521-4d16-bc92-7fab30221963/lib/python3.10/site-packages (from great_expectations[spark]) (4.2.2)\r\n",
      "Requirement already satisfied: tqdm>=4.59.0 in /local_disk0/.ephemeral_nfs/envs/pythonEnv-6afbc900-3521-4d16-bc92-7fab30221963/lib/python3.10/site-packages (from great_expectations[spark]) (4.67.1)\r\n",
      "Requirement already satisfied: scipy>=1.6.0 in /databricks/python3/lib/python3.10/site-packages (from great_expectations[spark]) (1.10.0)\r\n",
      "Requirement already satisfied: cryptography>=3.2 in /databricks/python3/lib/python3.10/site-packages (from great_expectations[spark]) (39.0.1)\r\n",
      "Requirement already satisfied: tzlocal>=1.2 in /local_disk0/.ephemeral_nfs/envs/pythonEnv-6afbc900-3521-4d16-bc92-7fab30221963/lib/python3.10/site-packages (from great_expectations[spark]) (5.2)\r\n",
      "Requirement already satisfied: pyspark>=2.3.2 in /local_disk0/.ephemeral_nfs/envs/pythonEnv-6afbc900-3521-4d16-bc92-7fab30221963/lib/python3.10/site-packages (from great_expectations[spark]) (3.5.3)\r\n",
      "Requirement already satisfied: toolz in /local_disk0/.ephemeral_nfs/envs/pythonEnv-6afbc900-3521-4d16-bc92-7fab30221963/lib/python3.10/site-packages (from altair<5.0.0,>=4.2.1->great_expectations[spark]) (1.0.0)\r\n",
      "Requirement already satisfied: entrypoints in /databricks/python3/lib/python3.10/site-packages (from altair<5.0.0,>=4.2.1->great_expectations[spark]) (0.4)\r\n",
      "Requirement already satisfied: cffi>=1.12 in /databricks/python3/lib/python3.10/site-packages (from cryptography>=3.2->great_expectations[spark]) (1.15.1)\r\n",
      "Requirement already satisfied: MarkupSafe>=2.0 in /databricks/python3/lib/python3.10/site-packages (from jinja2>=2.10->great_expectations[spark]) (2.1.1)\r\n",
      "Requirement already satisfied: pyrsistent!=0.17.0,!=0.17.1,!=0.17.2,>=0.14.0 in /databricks/python3/lib/python3.10/site-packages (from jsonschema>=2.5.1->great_expectations[spark]) (0.18.0)\r\n",
      "Requirement already satisfied: attrs>=17.4.0 in /databricks/python3/lib/python3.10/site-packages (from jsonschema>=2.5.1->great_expectations[spark]) (22.1.0)\r\n",
      "Requirement already satisfied: pytz>=2020.1 in /databricks/python3/lib/python3.10/site-packages (from pandas<2.2,>=1.3.0->great_expectations[spark]) (2022.7)\r\n",
      "Requirement already satisfied: backoff>=1.10.0 in /local_disk0/.ephemeral_nfs/envs/pythonEnv-6afbc900-3521-4d16-bc92-7fab30221963/lib/python3.10/site-packages (from posthog<3,>=2.1.0->great_expectations[spark]) (2.2.1)\r\n",
      "Requirement already satisfied: monotonic>=1.5 in /local_disk0/.ephemeral_nfs/envs/pythonEnv-6afbc900-3521-4d16-bc92-7fab30221963/lib/python3.10/site-packages (from posthog<3,>=2.1.0->great_expectations[spark]) (1.6)\r\n",
      "Requirement already satisfied: six>=1.5 in /usr/lib/python3/dist-packages (from posthog<3,>=2.1.0->great_expectations[spark]) (1.16.0)\r\n",
      "Requirement already satisfied: pydantic-core==2.27.1 in /local_disk0/.ephemeral_nfs/envs/pythonEnv-6afbc900-3521-4d16-bc92-7fab30221963/lib/python3.10/site-packages (from pydantic>=1.10.7->great_expectations[spark]) (2.27.1)\r\n",
      "Requirement already satisfied: annotated-types>=0.6.0 in /local_disk0/.ephemeral_nfs/envs/pythonEnv-6afbc900-3521-4d16-bc92-7fab30221963/lib/python3.10/site-packages (from pydantic>=1.10.7->great_expectations[spark]) (0.7.0)\r\n",
      "Requirement already satisfied: py4j==0.10.9.7 in /local_disk0/.ephemeral_nfs/envs/pythonEnv-6afbc900-3521-4d16-bc92-7fab30221963/lib/python3.10/site-packages (from pyspark>=2.3.2->great_expectations[spark]) (0.10.9.7)\r\n",
      "Requirement already satisfied: certifi>=2017.4.17 in /databricks/python3/lib/python3.10/site-packages (from requests>=2.20->great_expectations[spark]) (2022.12.7)\r\n",
      "Requirement already satisfied: urllib3<1.27,>=1.21.1 in /databricks/python3/lib/python3.10/site-packages (from requests>=2.20->great_expectations[spark]) (1.26.14)\r\n",
      "Requirement already satisfied: idna<4,>=2.5 in /databricks/python3/lib/python3.10/site-packages (from requests>=2.20->great_expectations[spark]) (3.4)\r\n",
      "Requirement already satisfied: charset-normalizer<3,>=2 in /databricks/python3/lib/python3.10/site-packages (from requests>=2.20->great_expectations[spark]) (2.0.4)\r\n",
      "Requirement already satisfied: ruamel.yaml.clib>=0.2.7 in /local_disk0/.ephemeral_nfs/envs/pythonEnv-6afbc900-3521-4d16-bc92-7fab30221963/lib/python3.10/site-packages (from ruamel.yaml>=0.16->great_expectations[spark]) (0.2.12)\r\n",
      "Requirement already satisfied: pycparser in /databricks/python3/lib/python3.10/site-packages (from cffi>=1.12->cryptography>=3.2->great_expectations[spark]) (2.21)\r\n",
      "\r\n",
      "\u001b[1m[\u001b[0m\u001b[34;49mnotice\u001b[0m\u001b[1;39;49m]\u001b[0m\u001b[39;49m A new release of pip available: \u001b[0m\u001b[31;49m22.3.1\u001b[0m\u001b[39;49m -> \u001b[0m\u001b[32;49m24.3.1\u001b[0m\r\n",
      "\u001b[1m[\u001b[0m\u001b[34;49mnotice\u001b[0m\u001b[1;39;49m]\u001b[0m\u001b[39;49m To update, run: \u001b[0m\u001b[32;49mpip install --upgrade pip\u001b[0m\r\n"
     ]
    }
   ],
   "source": [
    "!pip install great-expectations\n",
    "!python -m pip install 'great_expectations[spark]'"
   ]
  },
  {
   "cell_type": "markdown",
   "metadata": {
    "application/vnd.databricks.v1+cell": {
     "cellMetadata": {},
     "inputWidgets": {},
     "nuid": "020a14e6-9eef-43dd-8f4d-e855c804757b",
     "showTitle": false,
     "tableResultSettingsMap": {},
     "title": ""
    }
   },
   "source": [
    "## Imports and Setup"
   ]
  },
  {
   "cell_type": "code",
   "execution_count": null,
   "metadata": {
    "application/vnd.databricks.v1+cell": {
     "cellMetadata": {
      "byteLimit": 2048000,
      "rowLimit": 10000
     },
     "inputWidgets": {},
     "nuid": "d1b1bde6-f416-4b1b-a46a-6196de9502f4",
     "showTitle": false,
     "tableResultSettingsMap": {},
     "title": ""
    }
   },
   "outputs": [],
   "source": [
    "import warnings\n",
    "warnings.filterwarnings(\"ignore\")"
   ]
  },
  {
   "cell_type": "code",
   "execution_count": null,
   "metadata": {
    "application/vnd.databricks.v1+cell": {
     "cellMetadata": {
      "byteLimit": 2048000,
      "rowLimit": 10000
     },
     "inputWidgets": {},
     "nuid": "c50b8f64-d828-4726-9c79-7c02c037e3d0",
     "showTitle": false,
     "tableResultSettingsMap": {},
     "title": ""
    }
   },
   "outputs": [],
   "source": [
    "import great_expectations as gx\n",
    "from great_expectations.checkpoint import Checkpoint\n",
    "from great_expectations.core.expectation_suite import ExpectationSuite\n",
    "from pyspark.sql import SparkSession"
   ]
  },
  {
   "cell_type": "code",
   "execution_count": null,
   "metadata": {
    "application/vnd.databricks.v1+cell": {
     "cellMetadata": {
      "byteLimit": 2048000,
      "rowLimit": 10000
     },
     "inputWidgets": {},
     "nuid": "19c53a04-dd38-4e9f-958d-c931215cb8bc",
     "showTitle": false,
     "tableResultSettingsMap": {},
     "title": ""
    }
   },
   "outputs": [],
   "source": [
    "df = spark.sql(\"SELECT * from {table_name} where current_date = '2024-12-01'\")\n"
   ]
  },
  {
   "cell_type": "markdown",
   "metadata": {
    "application/vnd.databricks.v1+cell": {
     "cellMetadata": {},
     "inputWidgets": {},
     "nuid": "65896189-b78f-4d78-a5fd-09adf0af718f",
     "showTitle": false,
     "tableResultSettingsMap": {},
     "title": ""
    }
   },
   "source": [
    "## Create Data Context"
   ]
  },
  {
   "cell_type": "code",
   "execution_count": null,
   "metadata": {
    "application/vnd.databricks.v1+cell": {
     "cellMetadata": {
      "byteLimit": 2048000,
      "rowLimit": 10000
     },
     "inputWidgets": {},
     "nuid": "349f12df-d3eb-48d3-be80-515a384f6edc",
     "showTitle": false,
     "tableResultSettingsMap": {},
     "title": ""
    }
   },
   "outputs": [
    {
     "name": "stdout",
     "output_type": "stream",
     "text": [
      "{\n",
      "  \"checkpoint_store_name\": \"checkpoint_store\",\n",
      "  \"config_variables_file_path\": \"uncommitted/config_variables.yml\",\n",
      "  \"config_version\": 4.0,\n",
      "  \"data_context_id\": \"dccd67e1-b148-474c-96f2-a8166d17a174\",\n",
      "  \"data_docs_sites\": {\n",
      "    \"local_site\": {\n",
      "      \"class_name\": \"SiteBuilder\",\n",
      "      \"show_how_to_buttons\": true,\n",
      "      \"store_backend\": {\n",
      "        \"class_name\": \"TupleFilesystemStoreBackend\",\n",
      "        \"base_directory\": \"uncommitted/data_docs/local_site/\"\n",
      "      },\n",
      "      \"site_index_builder\": {\n",
      "        \"class_name\": \"DefaultSiteIndexBuilder\"\n",
      "      }\n",
      "    }\n",
      "  },\n",
      "  \"expectations_store_name\": \"expectations_store\",\n",
      "  \"fluent_datasources\": {},\n",
      "  \"plugins_directory\": \"plugins/\",\n",
      "  \"stores\": {\n",
      "    \"expectations_store\": {\n",
      "      \"class_name\": \"ExpectationsStore\",\n",
      "      \"store_backend\": {\n",
      "        \"class_name\": \"TupleFilesystemStoreBackend\",\n",
      "        \"base_directory\": \"expectations/\"\n",
      "      }\n",
      "    },\n",
      "    \"validation_results_store\": {\n",
      "      \"class_name\": \"ValidationResultsStore\",\n",
      "      \"store_backend\": {\n",
      "        \"class_name\": \"TupleFilesystemStoreBackend\",\n",
      "        \"base_directory\": \"uncommitted/validations/\"\n",
      "      }\n",
      "    },\n",
      "    \"checkpoint_store\": {\n",
      "      \"class_name\": \"CheckpointStore\",\n",
      "      \"store_backend\": {\n",
      "        \"class_name\": \"TupleFilesystemStoreBackend\",\n",
      "        \"suppress_store_backend_id\": true,\n",
      "        \"base_directory\": \"checkpoints/\"\n",
      "      }\n",
      "    },\n",
      "    \"validation_definition_store\": {\n",
      "      \"class_name\": \"ValidationDefinitionStore\",\n",
      "      \"store_backend\": {\n",
      "        \"class_name\": \"TupleFilesystemStoreBackend\",\n",
      "        \"base_directory\": \"validation_definitions/\"\n",
      "      }\n",
      "    }\n",
      "  },\n",
      "  \"validation_results_store_name\": \"validation_results_store\"\n",
      "}\n"
     ]
    }
   ],
   "source": [
    "context = gx.get_context(mode=\"file\", project_root_dir=\"./new_context_folder\")\n",
    "print(context)\n"
   ]
  },
  {
   "cell_type": "markdown",
   "metadata": {
    "application/vnd.databricks.v1+cell": {
     "cellMetadata": {},
     "inputWidgets": {},
     "nuid": "a3a6f0ea-8cf1-487a-b339-a43c5957ddcf",
     "showTitle": false,
     "tableResultSettingsMap": {},
     "title": ""
    }
   },
   "source": [
    "## Connect to Data\n",
    "\n",
    "**Create Data Source**"
   ]
  },
  {
   "cell_type": "code",
   "execution_count": null,
   "metadata": {
    "application/vnd.databricks.v1+cell": {
     "cellMetadata": {
      "byteLimit": 2048000,
      "rowLimit": 10000
     },
     "inputWidgets": {},
     "nuid": "04f64555-6e1e-461e-9c4b-6a5782e7e39e",
     "showTitle": false,
     "tableResultSettingsMap": {},
     "title": ""
    }
   },
   "outputs": [],
   "source": [
    "data_source_name = \"churn_users\"\n",
    "data_source = context.data_sources.add_spark(name=data_source_name)"
   ]
  },
  {
   "cell_type": "markdown",
   "metadata": {
    "application/vnd.databricks.v1+cell": {
     "cellMetadata": {},
     "inputWidgets": {},
     "nuid": "0884f445-fe1f-4a35-99ab-fd6da6ac8cb9",
     "showTitle": false,
     "tableResultSettingsMap": {},
     "title": ""
    }
   },
   "source": [
    "**Create Data Asset**"
   ]
  },
  {
   "cell_type": "code",
   "execution_count": null,
   "metadata": {
    "application/vnd.databricks.v1+cell": {
     "cellMetadata": {
      "byteLimit": 2048000,
      "rowLimit": 10000
     },
     "inputWidgets": {},
     "nuid": "af635322-101e-4e33-83a4-f68566bf02e0",
     "showTitle": false,
     "tableResultSettingsMap": {},
     "title": ""
    }
   },
   "outputs": [],
   "source": [
    "data_asset_name = \"churn_users_gp\"\n",
    "data_asset = data_source.add_dataframe_asset(name=data_asset_name)"
   ]
  },
  {
   "cell_type": "markdown",
   "metadata": {
    "application/vnd.databricks.v1+cell": {
     "cellMetadata": {},
     "inputWidgets": {},
     "nuid": "2f03260a-a6ac-479e-83c6-f59ca992dd5a",
     "showTitle": false,
     "tableResultSettingsMap": {},
     "title": ""
    }
   },
   "source": [
    "**Batch Definition**"
   ]
  },
  {
   "cell_type": "code",
   "execution_count": null,
   "metadata": {
    "application/vnd.databricks.v1+cell": {
     "cellMetadata": {
      "byteLimit": 2048000,
      "rowLimit": 10000
     },
     "inputWidgets": {},
     "nuid": "97bd93fe-4a1f-407a-96c4-1b0fb154db2c",
     "showTitle": false,
     "tableResultSettingsMap": {},
     "title": ""
    }
   },
   "outputs": [],
   "source": [
    "batch_definition_name = \"churn_users_gp_batch\"\n",
    "\n",
    "batch_definition = data_asset.add_batch_definition_whole_dataframe(\n",
    "    batch_definition_name\n",
    ")"
   ]
  },
  {
   "cell_type": "code",
   "execution_count": null,
   "metadata": {
    "application/vnd.databricks.v1+cell": {
     "cellMetadata": {
      "byteLimit": 2048000,
      "rowLimit": 10000
     },
     "inputWidgets": {},
     "nuid": "2370d673-cff7-4644-a7b6-0e8361a33784",
     "showTitle": false,
     "tableResultSettingsMap": {},
     "title": ""
    }
   },
   "outputs": [],
   "source": [
    "batch_parameters = {\"dataframe\": df}"
   ]
  },
  {
   "cell_type": "markdown",
   "metadata": {
    "application/vnd.databricks.v1+cell": {
     "cellMetadata": {},
     "inputWidgets": {},
     "nuid": "f257cd21-24c5-4ea8-b2eb-bdf5ece5bccb",
     "showTitle": false,
     "tableResultSettingsMap": {},
     "title": ""
    }
   },
   "source": [
    "## Scenarios"
   ]
  },
  {
   "cell_type": "markdown",
   "metadata": {
    "application/vnd.databricks.v1+cell": {
     "cellMetadata": {},
     "inputWidgets": {},
     "nuid": "9c1c2ecb-0fcb-44fa-9fba-bbcaa5e4a713",
     "showTitle": false,
     "tableResultSettingsMap": {},
     "title": ""
    }
   },
   "source": [
    "\n",
    "**1. UserId should not be null**\n",
    "\n",
    "**2. UserId should not have duplicate instance**\n",
    "\n",
    "**3. current_day_order_count should be null Intermittently**\n",
    "\n",
    "**4. Total Number of rows should be between 100K To 1000K**\n",
    "\n",
    "**5. lifetime_gsv should have data type of `FloatType`**\n",
    "\n",
    "**6. Minimum lifetime_gsv should be 0**"
   ]
  },
  {
   "cell_type": "markdown",
   "metadata": {
    "application/vnd.databricks.v1+cell": {
     "cellMetadata": {
      "byteLimit": 2048000,
      "rowLimit": 10000
     },
     "inputWidgets": {},
     "nuid": "967dcfa7-6f2e-4bc4-b4ef-b8b960faeeae",
     "showTitle": false,
     "tableResultSettingsMap": {},
     "title": ""
    }
   },
   "source": [
    "**Create an Expectation Suite**"
   ]
  },
  {
   "cell_type": "code",
   "execution_count": null,
   "metadata": {
    "application/vnd.databricks.v1+cell": {
     "cellMetadata": {
      "byteLimit": 2048000,
      "rowLimit": 10000
     },
     "inputWidgets": {},
     "nuid": "ff829bb4-f371-460b-960c-0313049e195f",
     "showTitle": false,
     "tableResultSettingsMap": {},
     "title": ""
    }
   },
   "outputs": [],
   "source": [
    "expectation_suite = context.suites.add(\n",
    "    gx.core.expectation_suite.ExpectationSuite(name=\"users gp data expectations for user_id_and_current_day_order_expectations\")\n",
    ")"
   ]
  },
  {
   "cell_type": "markdown",
   "metadata": {
    "application/vnd.databricks.v1+cell": {
     "cellMetadata": {},
     "inputWidgets": {},
     "nuid": "94697e87-02a1-4172-8a91-0fa4eeae40bb",
     "showTitle": false,
     "tableResultSettingsMap": {},
     "title": ""
    }
   },
   "source": [
    "**Define expectations**"
   ]
  },
  {
   "cell_type": "code",
   "execution_count": null,
   "metadata": {
    "application/vnd.databricks.v1+cell": {
     "cellMetadata": {
      "byteLimit": 2048000,
      "rowLimit": 10000
     },
     "inputWidgets": {},
     "nuid": "003d0aed-a5c8-4fde-b568-2be1819dd574",
     "showTitle": false,
     "tableResultSettingsMap": {},
     "title": ""
    }
   },
   "outputs": [
    {
     "data": {
      "text/plain": [
       "20832782"
      ]
     },
     "execution_count": 22,
     "metadata": {},
     "output_type": "execute_result"
    }
   ],
   "source": [
    "df.count()"
   ]
  },
  {
   "cell_type": "code",
   "execution_count": null,
   "metadata": {
    "application/vnd.databricks.v1+cell": {
     "cellMetadata": {
      "byteLimit": 2048000,
      "rowLimit": 10000
     },
     "inputWidgets": {},
     "nuid": "598ee9c0-9152-4871-b691-9bcb87c362b1",
     "showTitle": false,
     "tableResultSettingsMap": {},
     "title": ""
    }
   },
   "outputs": [
    {
     "data": {
      "text/plain": [
       "ExpectColumnToExist(id='36b1d13e-b7a3-4e36-92e4-4c60c6be14ed', meta=None, notes=None, result_format=<ResultFormat.BASIC: 'BASIC'>, description=None, catch_exceptions=False, rendered_content=None, windows=None, batch_id=None, column='user_id', column_index=None)"
      ]
     },
     "execution_count": 23,
     "metadata": {},
     "output_type": "execute_result"
    }
   ],
   "source": [
    "#missingness\n",
    "user_id_not_null_expectation = gx.expectations.ExpectColumnValuesToNotBeNull(column=\"user_id\")\n",
    "\n",
    "#uniqueness\n",
    "user_id_not_duplicated_expectation = gx.expectations.ExpectColumnValuesToBeUnique(column=\"user_id\")\n",
    "order_count_null_expectation = gx.expectations.ExpectColumnValuesToNotBeNull(column=\"current_day_order_count\", mostly=0.999)\n",
    "\n",
    "#volume\n",
    "total_rows_expectation = gx.expectations.ExpectTableRowCountToBeBetween(min_value=20*10^6, max_value=21*10^6)\n",
    "\n",
    "#schema validation\n",
    "gsv_schema_expectation = gx.expectations.ExpectColumnValuesToBeOfType(column=\"lifetime_gsv\", type_=\"FLOAT\")\n",
    "col_presence_expectation = gx.expectations.ExpectColumnToExist(column=\"user_id\")\n",
    "\n",
    "expectation_suite.add_expectation(user_id_not_null_expectation)\n",
    "expectation_suite.add_expectation(order_count_null_expectation)\n",
    "expectation_suite.add_expectation(user_id_not_duplicated_expectation)\n",
    "expectation_suite.add_expectation(total_rows_expectation)\n",
    "expectation_suite.add_expectation(gsv_schema_expectation)\n",
    "expectation_suite.add_expectation(col_presence_expectation)\n"
   ]
  },
  {
   "cell_type": "markdown",
   "metadata": {
    "application/vnd.databricks.v1+cell": {
     "cellMetadata": {},
     "inputWidgets": {},
     "nuid": "0b1ee360-b446-4860-9b4f-051600af2086",
     "showTitle": false,
     "tableResultSettingsMap": {},
     "title": ""
    }
   },
   "source": [
    "**Validation**"
   ]
  },
  {
   "cell_type": "code",
   "execution_count": null,
   "metadata": {
    "application/vnd.databricks.v1+cell": {
     "cellMetadata": {
      "byteLimit": 2048000,
      "rowLimit": 10000
     },
     "inputWidgets": {},
     "nuid": "85e242b4-97fd-4ade-92b8-c50fcb7a5311",
     "showTitle": false,
     "tableResultSettingsMap": {},
     "title": ""
    }
   },
   "outputs": [
    {
     "data": {
      "text/plain": [
       "<great_expectations.datasource.fluent.interfaces.Batch at 0xffff1f7d1c30>"
      ]
     },
     "execution_count": 24,
     "metadata": {},
     "output_type": "execute_result"
    }
   ],
   "source": [
    "batch = batch_definition.get_batch(batch_parameters=batch_parameters)\n",
    "batch"
   ]
  },
  {
   "cell_type": "code",
   "execution_count": null,
   "metadata": {
    "application/vnd.databricks.v1+cell": {
     "cellMetadata": {
      "byteLimit": 2048000,
      "rowLimit": 10000
     },
     "inputWidgets": {},
     "nuid": "53f902c2-6dcb-40ff-983b-d67db7651ec8",
     "showTitle": false,
     "tableResultSettingsMap": {},
     "title": ""
    }
   },
   "outputs": [],
   "source": [
    "\n",
    "# validation_result = batch.validate(expectation_suite)\n",
    "\n",
    "# print(f\"Expectation Suite passed: {validation_result['success']}\\n\")\n",
    "\n",
    "# for result in validation_result[\"results\"]:\n",
    "#     expectation_type = result[\"expectation_config\"][\"type\"]\n",
    "#     # col_name = result[\"expectation_config\"][\"kwargs\"][\"column\"]\n",
    "#     expectation_passed = result[\"success\"]\n",
    "#     print(f\"{expectation_type} : {expectation_passed}\")"
   ]
  },
  {
   "cell_type": "code",
   "execution_count": null,
   "metadata": {
    "application/vnd.databricks.v1+cell": {
     "cellMetadata": {
      "byteLimit": 2048000,
      "rowLimit": 10000
     },
     "inputWidgets": {},
     "nuid": "59cf85b4-f565-4f48-a22e-d94f7fed8845",
     "showTitle": false,
     "tableResultSettingsMap": {},
     "title": ""
    }
   },
   "outputs": [],
   "source": [
    "definition_name = \"users gp data validation\"\n",
    "validation_definition = gx.ValidationDefinition(\n",
    "    data=batch_definition, suite=expectation_suite, name=definition_name\n",
    ")\n",
    "validation_definition = context.validation_definitions.add(validation_definition)"
   ]
  },
  {
   "cell_type": "code",
   "execution_count": null,
   "metadata": {
    "application/vnd.databricks.v1+cell": {
     "cellMetadata": {
      "byteLimit": 2048000,
      "rowLimit": 10000
     },
     "inputWidgets": {},
     "nuid": "c3c5f99c-2500-4c32-bbe4-40757beb0e38",
     "showTitle": false,
     "tableResultSettingsMap": {},
     "title": ""
    }
   },
   "outputs": [
    {
     "data": {
      "text/plain": [
       "ValidationDefinition(name='users gp data validation', data=BatchDefinition(id=UUID('07cceaea-84a3-4f66-b87e-7bb11273984b'), name='churn_users_gp_batch', partitioner=None), suite={\n",
       "  \"name\": \"users gp data expectations for user_id_and_current_day_order_expectations\",\n",
       "  \"id\": \"0ecfc93d-37b5-421b-889c-c418a91c3c43\",\n",
       "  \"expectations\": [\n",
       "    {\n",
       "      \"type\": \"expect_column_values_to_not_be_null\",\n",
       "      \"kwargs\": {\n",
       "        \"column\": \"user_id\"\n",
       "      },\n",
       "      \"meta\": {},\n",
       "      \"id\": \"bec2c2ac-406d-4b0c-bce1-b9d3af791ba2\"\n",
       "    },\n",
       "    {\n",
       "      \"type\": \"expect_column_values_to_not_be_null\",\n",
       "      \"kwargs\": {\n",
       "        \"column\": \"current_day_order_count\",\n",
       "        \"mostly\": 0.999\n",
       "      },\n",
       "      \"meta\": {},\n",
       "      \"id\": \"59ab5584-8fbf-42f0-a215-45670347744f\"\n",
       "    },\n",
       "    {\n",
       "      \"type\": \"expect_table_row_count_to_be_between\",\n",
       "      \"kwargs\": {\n",
       "        \"min_value\": 206,\n",
       "        \"max_value\": 212\n",
       "      },\n",
       "      \"meta\": {},\n",
       "      \"id\": \"2a680a2a-6a38-4fc7-b108-a2c9c2b1b43b\"\n",
       "    },\n",
       "    {\n",
       "      \"type\": \"expect_column_values_to_be_of_type\",\n",
       "      \"kwargs\": {\n",
       "        \"column\": \"lifetime_gsv\",\n",
       "        \"type_\": \"FLOAT\"\n",
       "      },\n",
       "      \"meta\": {},\n",
       "      \"id\": \"78784ef7-bb1a-451c-9504-0d1a59b38f73\"\n",
       "    },\n",
       "    {\n",
       "      \"type\": \"expect_column_to_exist\",\n",
       "      \"kwargs\": {\n",
       "        \"column\": \"user_id\"\n",
       "      },\n",
       "      \"meta\": {},\n",
       "      \"id\": \"36b1d13e-b7a3-4e36-92e4-4c60c6be14ed\"\n",
       "    }\n",
       "  ],\n",
       "  \"meta\": {\n",
       "    \"great_expectations_version\": \"1.2.5\"\n",
       "  },\n",
       "  \"notes\": null\n",
       "}, id='e3af5bc8-dd46-4006-b96e-8a3f15c26503')"
      ]
     },
     "execution_count": 27,
     "metadata": {},
     "output_type": "execute_result"
    }
   ],
   "source": [
    "validation_definition"
   ]
  },
  {
   "cell_type": "code",
   "execution_count": null,
   "metadata": {
    "application/vnd.databricks.v1+cell": {
     "cellMetadata": {
      "byteLimit": 2048000,
      "rowLimit": 10000
     },
     "inputWidgets": {},
     "nuid": "a887d812-d39c-4af7-be47-c02f1c0ce065",
     "showTitle": false,
     "tableResultSettingsMap": {},
     "title": ""
    }
   },
   "outputs": [
    {
     "data": {
      "application/vnd.jupyter.widget-view+json": {
       "model_id": "8a37c0623505487ca40467a8a7da50a3",
       "version_major": 2,
       "version_minor": 0
      },
      "text/plain": [
       "Calculating Metrics:   0%|          | 0/19 [00:00<?, ?it/s]"
      ]
     },
     "metadata": {},
     "output_type": "display_data"
    },
    {
     "name": "stdout",
     "output_type": "stream",
     "text": [
      "{\n",
      "  \"success\": false,\n",
      "  \"results\": [\n",
      "    {\n",
      "      \"success\": true,\n",
      "      \"expectation_config\": {\n",
      "        \"type\": \"expect_column_values_to_not_be_null\",\n",
      "        \"kwargs\": {\n",
      "          \"batch_id\": \"churn_users-churn_users_gp\",\n",
      "          \"column\": \"user_id\"\n",
      "        },\n",
      "        \"meta\": {},\n",
      "        \"id\": \"bec2c2ac-406d-4b0c-bce1-b9d3af791ba2\"\n",
      "      },\n",
      "      \"result\": {\n",
      "        \"element_count\": 20832782,\n",
      "        \"unexpected_count\": 0,\n",
      "        \"unexpected_percent\": 0.0,\n",
      "        \"partial_unexpected_list\": [],\n",
      "        \"partial_unexpected_counts\": []\n",
      "      },\n",
      "      \"meta\": {},\n",
      "      \"exception_info\": {\n",
      "        \"raised_exception\": false,\n",
      "        \"exception_traceback\": null,\n",
      "        \"exception_message\": null\n",
      "      }\n",
      "    },\n",
      "    {\n",
      "      \"success\": true,\n",
      "      \"expectation_config\": {\n",
      "        \"type\": \"expect_column_to_exist\",\n",
      "        \"kwargs\": {\n",
      "          \"batch_id\": \"churn_users-churn_users_gp\",\n",
      "          \"column\": \"user_id\"\n",
      "        },\n",
      "        \"meta\": {},\n",
      "        \"id\": \"36b1d13e-b7a3-4e36-92e4-4c60c6be14ed\"\n",
      "      },\n",
      "      \"result\": {},\n",
      "      \"meta\": {},\n",
      "      \"exception_info\": {\n",
      "        \"raised_exception\": false,\n",
      "        \"exception_traceback\": null,\n",
      "        \"exception_message\": null\n",
      "      }\n",
      "    },\n",
      "    {\n",
      "      \"success\": true,\n",
      "      \"expectation_config\": {\n",
      "        \"type\": \"expect_column_values_to_not_be_null\",\n",
      "        \"kwargs\": {\n",
      "          \"batch_id\": \"churn_users-churn_users_gp\",\n",
      "          \"column\": \"current_day_order_count\",\n",
      "          \"mostly\": 0.999\n",
      "        },\n",
      "        \"meta\": {},\n",
      "        \"id\": \"59ab5584-8fbf-42f0-a215-45670347744f\"\n",
      "      },\n",
      "      \"result\": {\n",
      "        \"element_count\": 20832782,\n",
      "        \"unexpected_count\": 0,\n",
      "        \"unexpected_percent\": 0.0,\n",
      "        \"partial_unexpected_list\": [],\n",
      "        \"partial_unexpected_counts\": []\n",
      "      },\n",
      "      \"meta\": {},\n",
      "      \"exception_info\": {\n",
      "        \"raised_exception\": false,\n",
      "        \"exception_traceback\": null,\n",
      "        \"exception_message\": null\n",
      "      }\n",
      "    },\n",
      "    {\n",
      "      \"success\": false,\n",
      "      \"expectation_config\": {\n",
      "        \"type\": \"expect_table_row_count_to_be_between\",\n",
      "        \"kwargs\": {\n",
      "          \"batch_id\": \"churn_users-churn_users_gp\",\n",
      "          \"min_value\": 206,\n",
      "          \"max_value\": 212\n",
      "        },\n",
      "        \"meta\": {},\n",
      "        \"id\": \"2a680a2a-6a38-4fc7-b108-a2c9c2b1b43b\"\n",
      "      },\n",
      "      \"result\": {\n",
      "        \"observed_value\": 20832782\n",
      "      },\n",
      "      \"meta\": {},\n",
      "      \"exception_info\": {\n",
      "        \"raised_exception\": false,\n",
      "        \"exception_traceback\": null,\n",
      "        \"exception_message\": null\n",
      "      }\n",
      "    },\n",
      "    {\n",
      "      \"success\": false,\n",
      "      \"expectation_config\": {\n",
      "        \"type\": \"expect_column_values_to_be_of_type\",\n",
      "        \"kwargs\": {\n",
      "          \"column\": \"lifetime_gsv\",\n",
      "          \"type_\": \"FLOAT\",\n",
      "          \"batch_id\": \"churn_users-churn_users_gp\"\n",
      "        },\n",
      "        \"meta\": {},\n",
      "        \"id\": \"78784ef7-bb1a-451c-9504-0d1a59b38f73\"\n",
      "      },\n",
      "      \"result\": {},\n",
      "      \"meta\": {},\n",
      "      \"exception_info\": {\n",
      "        \"exception_traceback\": \"Traceback (most recent call last):\\n  File \\\"/local_disk0/.ephemeral_nfs/envs/pythonEnv-6afbc900-3521-4d16-bc92-7fab30221963/lib/python3.10/site-packages/great_expectations/validator/validator.py\\\", line 650, in graph_validate\\n    result = expectation.metrics_validate(\\n  File \\\"/local_disk0/.ephemeral_nfs/envs/pythonEnv-6afbc900-3521-4d16-bc92-7fab30221963/lib/python3.10/site-packages/great_expectations/expectations/expectation.py\\\", line 1152, in metrics_validate\\n    expectation_validation_result: Union[ExpectationValidationResult, dict] = self._validate(\\n  File \\\"/local_disk0/.ephemeral_nfs/envs/pythonEnv-6afbc900-3521-4d16-bc92-7fab30221963/lib/python3.10/site-packages/great_expectations/expectations/core/expect_column_values_to_be_of_type.py\\\", line 623, in _validate\\n    return self._validate_spark(\\n  File \\\"/local_disk0/.ephemeral_nfs/envs/pythonEnv-6afbc900-3521-4d16-bc92-7fab30221963/lib/python3.10/site-packages/great_expectations/expectations/core/expect_column_values_to_be_of_type.py\\\", line 484, in _validate_spark\\n    raise ValueError(\\\"No recognized spark types in expected_types_list\\\")  # noqa: TRY003\\nValueError: No recognized spark types in expected_types_list\\n\",\n",
      "        \"exception_message\": \"No recognized spark types in expected_types_list\",\n",
      "        \"raised_exception\": true\n",
      "      }\n",
      "    }\n",
      "  ],\n",
      "  \"suite_name\": \"users gp data expectations for user_id_and_current_day_order_expectations\",\n",
      "  \"suite_parameters\": {},\n",
      "  \"statistics\": {\n",
      "    \"evaluated_expectations\": 5,\n",
      "    \"successful_expectations\": 3,\n",
      "    \"unsuccessful_expectations\": 2,\n",
      "    \"success_percent\": 60.0\n",
      "  },\n",
      "  \"meta\": {\n",
      "    \"great_expectations_version\": \"1.2.5\",\n",
      "    \"batch_spec\": {\n",
      "      \"batch_data\": \"SparkDataFrame\"\n",
      "    },\n",
      "    \"batch_markers\": {\n",
      "      \"ge_load_time\": \"20241209T174420.977163Z\"\n",
      "    },\n",
      "    \"active_batch_definition\": {\n",
      "      \"datasource_name\": \"churn_users\",\n",
      "      \"data_connector_name\": \"fluent\",\n",
      "      \"data_asset_name\": \"churn_users_gp\",\n",
      "      \"batch_identifiers\": {\n",
      "        \"dataframe\": \"<DATAFRAME>\"\n",
      "      }\n",
      "    },\n",
      "    \"validation_id\": \"e3af5bc8-dd46-4006-b96e-8a3f15c26503\",\n",
      "    \"checkpoint_id\": null,\n",
      "    \"batch_parameters\": {\n",
      "      \"dataframe\": \"<DATAFRAME>\"\n",
      "    }\n",
      "  },\n",
      "  \"id\": null\n",
      "}\n"
     ]
    }
   ],
   "source": [
    "validation_definition = context.validation_definitions.get(definition_name)\n",
    "validation_results = validation_definition.run(batch_parameters=batch_parameters)\n",
    "print(validation_results)"
   ]
  },
  {
   "cell_type": "code",
   "execution_count": null,
   "metadata": {
    "application/vnd.databricks.v1+cell": {
     "cellMetadata": {
      "byteLimit": 2048000,
      "rowLimit": 10000
     },
     "inputWidgets": {},
     "nuid": "b9721836-e71b-47ec-be6c-4a1cfbf5ad0a",
     "showTitle": false,
     "tableResultSettingsMap": {},
     "title": ""
    }
   },
   "outputs": [
    {
     "data": {
      "text/plain": [
       "{\"type\": \"expect_column_values_to_not_be_null\", \"kwargs\": {\"batch_id\": \"churn_users-churn_users_gp\", \"column\": \"user_id\"}, \"meta\": {}, \"id\": \"bec2c2ac-406d-4b0c-bce1-b9d3af791ba2\"}"
      ]
     },
     "execution_count": 37,
     "metadata": {},
     "output_type": "execute_result"
    }
   ],
   "source": [
    "validation_results[\"results\"][0][\"expectation_config\"]\n"
   ]
  },
  {
   "cell_type": "markdown",
   "metadata": {
    "application/vnd.databricks.v1+cell": {
     "cellMetadata": {},
     "inputWidgets": {},
     "nuid": "3ca738b6-d60a-48fe-842a-2cdbd1548259",
     "showTitle": false,
     "tableResultSettingsMap": {},
     "title": ""
    }
   },
   "source": [
    "## Action Trigger"
   ]
  },
  {
   "cell_type": "code",
   "execution_count": null,
   "metadata": {
    "application/vnd.databricks.v1+cell": {
     "cellMetadata": {},
     "inputWidgets": {},
     "nuid": "7baab9c7-374d-411b-afa8-449d914abf22",
     "showTitle": false,
     "tableResultSettingsMap": {},
     "title": ""
    }
   },
   "outputs": [],
   "source": [
    "from great_expectations.checkpoint import (\n",
    "    SlackNotificationAction,\n",
    "    UpdateDataDocsAction,\n",
    ")"
   ]
  },
  {
   "cell_type": "code",
   "execution_count": null,
   "metadata": {
    "application/vnd.databricks.v1+cell": {
     "cellMetadata": {
      "byteLimit": 2048000,
      "rowLimit": 10000
     },
     "inputWidgets": {},
     "nuid": "9fabc129-3bab-4399-8f11-bf4cf0a8b656",
     "showTitle": false,
     "tableResultSettingsMap": {},
     "title": ""
    }
   },
   "outputs": [
    {
     "data": {
      "text/plain": [
       "[ValidationDefinition(name='users gp data validation', data=BatchDefinition(id=UUID('07cceaea-84a3-4f66-b87e-7bb11273984b'), name='churn_users_gp_batch', partitioner=None), suite={\n",
       "   \"name\": \"users gp data expectations for user_id_and_current_day_order_expectations\",\n",
       "   \"id\": \"0ecfc93d-37b5-421b-889c-c418a91c3c43\",\n",
       "   \"expectations\": [\n",
       "     {\n",
       "       \"type\": \"expect_column_values_to_not_be_null\",\n",
       "       \"kwargs\": {\n",
       "         \"column\": \"user_id\"\n",
       "       },\n",
       "       \"meta\": {},\n",
       "       \"id\": \"bec2c2ac-406d-4b0c-bce1-b9d3af791ba2\"\n",
       "     },\n",
       "     {\n",
       "       \"type\": \"expect_column_values_to_not_be_null\",\n",
       "       \"kwargs\": {\n",
       "         \"column\": \"current_day_order_count\",\n",
       "         \"mostly\": 0.999\n",
       "       },\n",
       "       \"meta\": {},\n",
       "       \"id\": \"59ab5584-8fbf-42f0-a215-45670347744f\"\n",
       "     },\n",
       "     {\n",
       "       \"type\": \"expect_table_row_count_to_be_between\",\n",
       "       \"kwargs\": {\n",
       "         \"min_value\": 206,\n",
       "         \"max_value\": 212\n",
       "       },\n",
       "       \"meta\": {},\n",
       "       \"id\": \"2a680a2a-6a38-4fc7-b108-a2c9c2b1b43b\"\n",
       "     },\n",
       "     {\n",
       "       \"type\": \"expect_column_values_to_be_of_type\",\n",
       "       \"kwargs\": {\n",
       "         \"column\": \"lifetime_gsv\",\n",
       "         \"type_\": \"FLOAT\"\n",
       "       },\n",
       "       \"meta\": {},\n",
       "       \"id\": \"78784ef7-bb1a-451c-9504-0d1a59b38f73\"\n",
       "     },\n",
       "     {\n",
       "       \"type\": \"expect_column_to_exist\",\n",
       "       \"kwargs\": {\n",
       "         \"column\": \"user_id\"\n",
       "       },\n",
       "       \"meta\": {},\n",
       "       \"id\": \"36b1d13e-b7a3-4e36-92e4-4c60c6be14ed\"\n",
       "     }\n",
       "   ],\n",
       "   \"meta\": {\n",
       "     \"great_expectations_version\": \"1.2.5\"\n",
       "   },\n",
       "   \"notes\": null\n",
       " }, id='e3af5bc8-dd46-4006-b96e-8a3f15c26503')]"
      ]
     },
     "execution_count": 38,
     "metadata": {},
     "output_type": "execute_result"
    }
   ],
   "source": [
    "validation_definitions = [\n",
    "    context.validation_definitions.get(definition_name)\n",
    "]\n",
    "validation_definitions"
   ]
  },
  {
   "cell_type": "code",
   "execution_count": null,
   "metadata": {
    "application/vnd.databricks.v1+cell": {
     "cellMetadata": {},
     "inputWidgets": {},
     "nuid": "b24a08a1-5243-4c13-a028-8d5d3fb0c7c7",
     "showTitle": false,
     "tableResultSettingsMap": {},
     "title": ""
    }
   },
   "outputs": [],
   "source": [
    "action_list = [\n",
    "    SlackNotificationAction(\n",
    "        name=\"send_slack_notification_on_failed_expectations\",\n",
    "        slack_token=\"${validation_notification_slack_webhook}\",\n",
    "        slack_channel=\"${validation_notification_slack_channel}\",\n",
    "        notify_on=\"failure\",\n",
    "        show_failed_expectations=True,\n",
    "    ),\n",
    "    # This Action updates the Data Docs static website with the Validation\n",
    "    #   Results after the Checkpoint is run.\n",
    "    UpdateDataDocsAction(\n",
    "        name=\"update_all_data_docs\",\n",
    "    ),\n",
    "]"
   ]
  },
  {
   "cell_type": "markdown",
   "metadata": {
    "application/vnd.databricks.v1+cell": {
     "cellMetadata": {},
     "inputWidgets": {},
     "nuid": "fbb58194-a023-4306-9efd-9e6f7c56c772",
     "showTitle": false,
     "tableResultSettingsMap": {},
     "title": ""
    }
   },
   "source": [
    "## Checkpoints\n",
    "A Checkpoint executes one or more Validation Definitions and then performs a set of Actions based on the Validation Results"
   ]
  },
  {
   "cell_type": "code",
   "execution_count": null,
   "metadata": {
    "application/vnd.databricks.v1+cell": {
     "cellMetadata": {},
     "inputWidgets": {},
     "nuid": "b6393c4b-62c1-4b30-9296-7d53cb785440",
     "showTitle": false,
     "tableResultSettingsMap": {},
     "title": ""
    }
   },
   "outputs": [],
   "source": [
    "checkpoint_name = \"user_gp_data_checkpoint\"\n",
    "checkpoint = gx.Checkpoint(\n",
    "    name=checkpoint_name,\n",
    "    validation_definitions=validation_definitions,\n",
    "    actions=action_list,\n",
    "    result_format={\"result_format\": \"COMPLETE\"},\n",
    ")"
   ]
  },
  {
   "cell_type": "markdown",
   "metadata": {
    "application/vnd.databricks.v1+cell": {
     "cellMetadata": {},
     "inputWidgets": {},
     "nuid": "04fe0e5e-8552-496b-8286-bff1a6a353c4",
     "showTitle": false,
     "tableResultSettingsMap": {},
     "title": ""
    }
   },
   "source": [
    "Add the Checkpoint to your Data Context."
   ]
  },
  {
   "cell_type": "code",
   "execution_count": null,
   "metadata": {
    "application/vnd.databricks.v1+cell": {
     "cellMetadata": {},
     "inputWidgets": {},
     "nuid": "3819694b-6506-4922-9daf-a5f4d7c5a91a",
     "showTitle": false,
     "tableResultSettingsMap": {},
     "title": ""
    }
   },
   "outputs": [],
   "source": [
    "context.checkpoints.add(checkpoint)"
   ]
  },
  {
   "cell_type": "markdown",
   "metadata": {
    "application/vnd.databricks.v1+cell": {
     "cellMetadata": {
      "byteLimit": 2048000,
      "rowLimit": 10000
     },
     "inputWidgets": {},
     "nuid": "668ba08d-40cd-409d-9c2e-db7d12a79b87",
     "showTitle": false,
     "tableResultSettingsMap": {},
     "title": ""
    }
   },
   "source": [
    "Run the checkpoint\n",
    "\n",
    "- Running a Checkpoint will cause it to validate all of its Validation Definitions. It will then execute its Actions based on the results returned from those Validation Definitions. Finally, the Validation Results will be returned by the Checkpoint."
   ]
  },
  {
   "cell_type": "code",
   "execution_count": null,
   "metadata": {
    "application/vnd.databricks.v1+cell": {
     "cellMetadata": {},
     "inputWidgets": {},
     "nuid": "930929a6-8c76-4e60-ac30-c73c65f68a67",
     "showTitle": false,
     "tableResultSettingsMap": {},
     "title": ""
    }
   },
   "outputs": [],
   "source": [
    "validation_results = checkpoint.run(\n",
    "    batch_parameters=batch_parameters\n",
    ")"
   ]
  }
 ],
 "metadata": {
  "application/vnd.databricks.v1+notebook": {
   "computePreferences": null,
   "dashboards": [],
   "environmentMetadata": {
    "base_environment": "",
    "client": "1"
   },
   "language": "python",
   "notebookMetadata": {
    "pythonIndentUnit": 4
   },
   "notebookName": "Great Expectation(GX) - Data Integrity and Profiling",
   "widgets": {}
  },
  "language_info": {
   "name": "python"
  }
 },
 "nbformat": 4,
 "nbformat_minor": 0
}
